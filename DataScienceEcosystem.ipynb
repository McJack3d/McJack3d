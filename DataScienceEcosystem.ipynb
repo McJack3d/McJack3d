{
 "cells": [
  {
   "cell_type": "markdown",
   "id": "c519b425",
   "metadata": {},
   "source": [
    "# Data Science Tools and Ecosystem"
   ]
  },
  {
   "cell_type": "markdown",
   "id": "cf8838c8",
   "metadata": {},
   "source": [
    "In this notebook, Data Science Tools and Ecosystem are summarized."
   ]
  },
  {
   "cell_type": "markdown",
   "id": "eef622e6",
   "metadata": {},
   "source": [
    "**Objectives:**\n",
    "- List popular languages for Data Science\n",
    "- List common libraries for Data Science\n",
    "- Data Science Tools"
   ]
  },
  {
   "cell_type": "markdown",
   "id": "096378db",
   "metadata": {},
   "source": [
    "Some of the popular languages that Data Scientists use are:"
   ]
  },
  {
   "cell_type": "markdown",
   "id": "6c1d1f51",
   "metadata": {},
   "source": [
    "1. Python\n",
    "2. SQL\n",
    "3. R"
   ]
  },
  {
   "cell_type": "markdown",
   "id": "0882eefc",
   "metadata": {},
   "source": [
    "Some of the commonly used libraries used by Data Scientists include:"
   ]
  },
  {
   "cell_type": "markdown",
   "id": "bf54a6b2",
   "metadata": {},
   "source": [
    "1. Numpy\n",
    "2. Pandas\n",
    "3. SciPy\n",
    "4. Seaborn\n",
    "5. Scikit-learn\n",
    "6. TensorFlow"
   ]
  },
  {
   "cell_type": "markdown",
   "id": "85083839",
   "metadata": {},
   "source": [
    "# Data Science Tools"
   ]
  },
  {
   "cell_type": "markdown",
   "id": "8d80f321",
   "metadata": {},
   "source": [
    "| Tool              | Purpose                                | Example Usage                        |\n",
    "|-------------------|----------------------------------------|--------------------------------------|\n",
    "| Jupyter Notebook  | Interactive coding and reporting      | Data exploration, model prototyping  |\n",
    "| VS Code           | Code editor with powerful extensions   | Writing Python scripts, debugging    |\n",
    "| Anaconda          | Package and environment manager        | Managing Python environments         |\n",
    "| Git               | Version control system                 | Tracking changes in code             |"
   ]
  },
  {
   "cell_type": "markdown",
   "id": "96aa1d6b",
   "metadata": {},
   "source": [
    "### Below are a few examples of evaluating arithmetic expressions in Python"
   ]
  },
  {
   "cell_type": "code",
   "execution_count": 1,
   "id": "9511fefe",
   "metadata": {},
   "outputs": [
    {
     "data": {
      "text/plain": [
       "17"
      ]
     },
     "execution_count": 1,
     "metadata": {},
     "output_type": "execute_result"
    }
   ],
   "source": [
    "#  This a simple arithmetic expression to mutiply then add integers\n",
    "(3*4)+5"
   ]
  },
  {
   "cell_type": "code",
   "execution_count": 2,
   "id": "e55ee6b9",
   "metadata": {},
   "outputs": [
    {
     "data": {
      "text/plain": [
       "3.3333333333333335"
      ]
     },
     "execution_count": 2,
     "metadata": {},
     "output_type": "execute_result"
    }
   ],
   "source": [
    "#  This will convert 200 minutes to hours by diving by 60\n",
    "200 / 60"
   ]
  },
  {
   "cell_type": "markdown",
   "id": "ce1db980",
   "metadata": {},
   "source": [
    "## Author \n",
    "Alexandre Bredillot"
   ]
  }
 ],
 "metadata": {
  "kernelspec": {
   "display_name": "Python (datasci)",
   "language": "python",
   "name": "datasci"
  },
  "language_info": {
   "codemirror_mode": {
    "name": "ipython",
    "version": 3
   },
   "file_extension": ".py",
   "mimetype": "text/x-python",
   "name": "python",
   "nbconvert_exporter": "python",
   "pygments_lexer": "ipython3",
   "version": "3.13.0"
  }
 },
 "nbformat": 4,
 "nbformat_minor": 5
}
